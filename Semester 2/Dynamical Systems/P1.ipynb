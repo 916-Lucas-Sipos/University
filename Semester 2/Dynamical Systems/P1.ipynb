{
 "cells": [
  {
   "cell_type": "code",
   "execution_count": 20,
   "metadata": {},
   "outputs": [
    {
     "data": {
      "text/html": [
       "<html><script type=\"math/tex; mode=display\">\\newcommand{\\Bold}[1]{\\mathbf{#1}}\\mathrm{False}</script></html>"
      ],
      "text/latex": [
       "$$\\newcommand{\\Bold}[1]{\\mathbf{#1}}\\mathrm{False}$$"
      ],
      "text/plain": [
       "False"
      ]
     },
     "metadata": {},
     "output_type": "display_data"
    }
   ],
   "source": [
    "t = var('t') \n",
    "x = function('x')(t) == exp(1/2*t**2)\n",
    "f = function('f')(x, t)\n",
    "des = diff(x,t) == f\n",
    "show(des)"
   ]
  },
  {
   "cell_type": "code",
   "execution_count": 21,
   "metadata": {},
   "outputs": [],
   "source": [
    "forget()"
   ]
  },
  {
   "cell_type": "code",
   "execution_count": 23,
   "metadata": {},
   "outputs": [
    {
     "name": "stdout",
     "output_type": "stream",
     "text": [
      "         x                    y                  h*f(x,y)\n",
      "         0                    1                   -2\n",
      "       1/2                   -1                 -7/4\n",
      "         1                -11/4                -11/8\n",
      "       3/2                -33/8               -13/16\n",
      "         2               -79/16                 1/32\n",
      "       5/2              -157/32                83/64\n",
      "         3              -231/64              409/128\n",
      "       7/2              -53/128             1547/256\n",
      "         4             1441/256             5281/512\n",
      "       9/2             8163/512           17123/1024\n",
      "         5           33449/1024           53929/2048\n"
     ]
    }
   ],
   "source": [
    "from sage.calculus.desolvers import eulers_method\n",
    "x,y = PolynomialRing(QQ,2,\"xy\").gens()\n",
    "eulers_method(5*x+y-5,0,1,1/2,5)"
   ]
  },
  {
   "cell_type": "code",
   "execution_count": null,
   "metadata": {},
   "outputs": [],
   "source": []
  }
 ],
 "metadata": {
  "kernelspec": {
   "display_name": "SageMath 9.3",
   "language": "sage",
   "name": "sagemath"
  },
  "language_info": {
   "codemirror_mode": {
    "name": "ipython",
    "version": 3
   },
   "file_extension": ".py",
   "mimetype": "text/x-python",
   "name": "python",
   "nbconvert_exporter": "python",
   "pygments_lexer": "ipython3",
   "version": "3.7.10"
  }
 },
 "nbformat": 4,
 "nbformat_minor": 4
}
